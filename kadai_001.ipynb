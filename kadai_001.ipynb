{
  "nbformat": 4,
  "nbformat_minor": 0,
  "metadata": {
    "colab": {
      "provenance": []
    },
    "kernelspec": {
      "name": "python3",
      "display_name": "Python 3"
    },
    "language_info": {
      "name": "python"
    }
  },
  "cells": [
    {
      "cell_type": "code",
      "execution_count": null,
      "metadata": {
        "id": "efjnVxSSnQh6"
      },
      "outputs": [],
      "source": [
        "import openpyxl\n",
        "import time\n",
        "\n",
        "# 新しいワークブックを作成\n",
        "workbook = openpyxl.Workbook()\n",
        "sheet = workbook.active\n",
        "\n",
        "# 請求書タイトル\n",
        "sheet['B2'] = '請求書'\n",
        "\n",
        "# 見出し\n",
        "sheet['B4'] = '株式会社ABC'\n",
        "sheet.merge_cells('B4:C4')\n",
        "\n",
        "sheet['B5'] = '〒101-0022 東京都千代田区神田練塀町300'\n",
        "sheet.merge_cells('B5:E5')\n",
        "\n",
        "sheet['B6'] = 'TEL:03-1234-5678 FAX:03-1234-5678'\n",
        "sheet.merge_cells('B6:E6')\n",
        "\n",
        "sheet['B7'] = '担当者名：鈴木一郎様'\n",
        "sheet.merge_cells('B7:C7')\n",
        "\n",
        "sheet['F4'] = 'No.'\n",
        "sheet['G4'] = '0001'\n",
        "\n",
        "sheet['F5'] = '日付'\n",
        "day = time.strftime(\"%Y/%m/%d\")\n",
        "sheet['G5'] = day\n",
        "\n",
        "sheet.append([])\n",
        "sheet.append([])\n",
        "\n",
        "# 項目ヘッダー\n",
        "header = ['', '商品名', '数量', '単価', '金額']\n",
        "sheet.append(header)\n",
        "\n",
        "# 請求内容\n",
        "data = [\n",
        "    ['', '商品A', 2, 10000, 20000],\n",
        "    ['', '商品B', 1, 15000, 15000]\n",
        "]\n",
        "for row in data:\n",
        "    sheet.append(row)\n",
        "\n",
        "sheet['B15'] = '合計'\n",
        "sheet['B16'] = '消費税'\n",
        "sheet['B17'] = '税込合計'\n",
        "\n",
        "\n",
        "\n",
        "# （売上合計を計算）\n",
        "sheet['E13'] = '=SUM(E11:E12)'\n",
        "\n",
        "#合計\n",
        "sheet['E15'] = '=E13'\n",
        "\n",
        "# 消費税（小計の10%）\n",
        "sheet['E16'] = '=E15*0.1'\n",
        "\n",
        "# 合計（小計 + 消費税）\n",
        "sheet['E17'] = '=SUM(E15:E16)'\n",
        "\n",
        "# ファイル名（スラッシュなしの日付フォーマット）\n",
        "f_day = time.strftime(\"%Y%m%d\")\n",
        "name = f\"請求書_{f_day}.xlsx\"\n",
        "\n",
        "# 保存\n",
        "workbook.save(name)\n"
      ]
    },
    {
      "cell_type": "code",
      "source": [],
      "metadata": {
        "id": "avjqL3jrLtxe"
      },
      "execution_count": null,
      "outputs": []
    }
  ]
}